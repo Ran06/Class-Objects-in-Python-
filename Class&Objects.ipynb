{
 "cells": [
  {
   "cell_type": "code",
   "execution_count": 21,
   "id": "efbe24ac",
   "metadata": {},
   "outputs": [
    {
     "name": "stdout",
     "output_type": "stream",
     "text": [
      "(1, 2, 3)\n"
     ]
    }
   ],
   "source": [
    "#Question 1\n",
    "class Point3D :\n",
    "    def __init__(self, x, y, z) :\n",
    "        self.x = x\n",
    "        self.y = y\n",
    "        self.z = z\n",
    "        \n",
    "    def __repr__(self) :\n",
    "        return str((self.x, self.y, self.z))\n",
    "my_point = Point3D(1, 2, 3)\n",
    "print(my_point)"
   ]
  },
  {
   "cell_type": "code",
   "execution_count": 1,
   "id": "f03bcaf7",
   "metadata": {},
   "outputs": [
    {
     "name": "stdout",
     "output_type": "stream",
     "text": [
      "(3, 4)\n"
     ]
    }
   ],
   "source": [
    "#Question 2\n",
    "class Rectangle : \n",
    "    def __init__(self, width, length) : \n",
    "        self.width = width \n",
    "        self.length = length\n",
    "    \n",
    "    def area(self) :\n",
    "        return self.width * self.length\n",
    "    \n",
    "    def perimeter(self) :\n",
    "        return 2 * (self.width + self.length)\n",
    "    \n",
    "    def __str__(self) : \n",
    "        return str((self.width, self.length))\n",
    "        \n",
    "my_rectangle = Rectangle(3, 4)\n",
    "print(my_rectangle)"
   ]
  },
  {
   "cell_type": "code",
   "execution_count": 24,
   "id": "dbe99532",
   "metadata": {},
   "outputs": [
    {
     "name": "stdout",
     "output_type": "stream",
     "text": [
      "<__main__.Circle object at 0x0000021D4E0994C0>\n"
     ]
    }
   ],
   "source": [
    "#Question 3\n",
    "import numpy as np\n",
    "class Circle : \n",
    "    def __init__(self, center, radius) : \n",
    "        self.center = center\n",
    "        self.radius = radius\n",
    "        \n",
    "    def area(self) :\n",
    "        return np.pi * self.radius ** 2\n",
    "    \n",
    "    def perimeter(self) :\n",
    "        return 2 * np.pi * self.radius\n",
    "   \n",
    "    def __str__(self) :\n",
    "        return str((self.center, slef.radius))\n",
    "    \n",
    "print(Circle(10, 5))"
   ]
  },
  {
   "cell_type": "code",
   "execution_count": 2,
   "id": "e118fda0",
   "metadata": {},
   "outputs": [],
   "source": [
    "#Question 4\n",
    "class Bank :\n",
    "    def __init__(self, balance,) : \n",
    "        self.balance = balance \n",
    "        \n",
    "    def deposit(self, amount) :\n",
    "        self.balance += amount\n",
    "        \n",
    "    def withdraw(self, amount) : \n",
    "        self.balance -= amount"
   ]
  },
  {
   "cell_type": "code",
   "execution_count": null,
   "id": "5228feed",
   "metadata": {},
   "outputs": [],
   "source": []
  }
 ],
 "metadata": {
  "kernelspec": {
   "display_name": "Python 3 (ipykernel)",
   "language": "python",
   "name": "python3"
  },
  "language_info": {
   "codemirror_mode": {
    "name": "ipython",
    "version": 3
   },
   "file_extension": ".py",
   "mimetype": "text/x-python",
   "name": "python",
   "nbconvert_exporter": "python",
   "pygments_lexer": "ipython3",
   "version": "3.9.12"
  }
 },
 "nbformat": 4,
 "nbformat_minor": 5
}
